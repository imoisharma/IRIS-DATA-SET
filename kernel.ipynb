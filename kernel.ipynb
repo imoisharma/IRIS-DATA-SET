{
  "cells": [
    {
      "metadata": {
        "_uuid": "8f2839f25d086af736a60e9eeb907d3b93b6e0e5",
        "_cell_guid": "b1076dfc-b9ad-4769-8c92-a6c4dae69d19",
        "trusted": true,
        "collapsed": true
      },
      "cell_type": "code",
      "source": "# This Python 3 environment comes with many helpful analytics libraries installed\n# It is defined by the kaggle/python docker image: https://github.com/kaggle/docker-python\n# For example, here's several helpful packages to load in \n\nimport numpy as np # linear algebra\nimport pandas as pd # data processing, CSV file I/O (e.g. pd.read_csv)\n\n# Input data files are available in the \"../input/\" directory.\n# For example, running this (by clicking run or pressing Shift+Enter) will list the files in the input directory\n\nimport os\nprint(os.listdir(\"../input\"))\n\n# Any results you write to the current directory are saved as output.",
      "execution_count": null,
      "outputs": []
    },
    {
      "metadata": {
        "_cell_guid": "79c7e3d0-c299-4dcb-8224-4455121ee9b0",
        "collapsed": true,
        "_uuid": "d629ff2d2480ee46fbb7e2d37f6b5fab8052498a",
        "trusted": true
      },
      "cell_type": "code",
      "source": "# Import the libraries\nimport numpy as np\nimport pandas as pd\nimport matplotlib.pyplot as plt\nimport seaborn as sns",
      "execution_count": null,
      "outputs": []
    },
    {
      "metadata": {
        "trusted": true,
        "collapsed": true,
        "_uuid": "df5474c9241b63f87ae591fbb5507b6199a108b8"
      },
      "cell_type": "code",
      "source": "# For Jupyter notebook you have to write this command so that to see the output\n%matplotlib inline",
      "execution_count": null,
      "outputs": []
    },
    {
      "metadata": {
        "trusted": true,
        "collapsed": true,
        "_uuid": "ad14661191cdf7e639c035e5daf9bf616aca44f6"
      },
      "cell_type": "code",
      "source": "# Import the Dataset\ndataset = pd.read_csv(\"../input/Iris.csv\")",
      "execution_count": null,
      "outputs": []
    },
    {
      "metadata": {
        "trusted": true,
        "_uuid": "059896e81d13449d17a742179edd7e230b590113",
        "collapsed": true
      },
      "cell_type": "code",
      "source": "dataset",
      "execution_count": null,
      "outputs": []
    },
    {
      "metadata": {
        "trusted": true,
        "_uuid": "6a9859fe6127b7d58721e00e25f02611c9f0874d",
        "collapsed": true
      },
      "cell_type": "code",
      "source": "# it shows only first 5 index information \ndataset.head()",
      "execution_count": null,
      "outputs": []
    },
    {
      "metadata": {
        "trusted": true,
        "_uuid": "86a93bc17b8ad394bdc4f09b01abf3eae16cca63",
        "collapsed": true
      },
      "cell_type": "code",
      "source": "# Check for null or missing value\ndataset.isnull()",
      "execution_count": null,
      "outputs": []
    },
    {
      "metadata": {
        "trusted": true,
        "collapsed": true,
        "_uuid": "c955f31e70df24853d5a16dee88534c7d36c05ab"
      },
      "cell_type": "code",
      "source": "# If any of the above value comes True that means that is the missing Values.",
      "execution_count": null,
      "outputs": []
    },
    {
      "metadata": {
        "trusted": true,
        "_uuid": "fafb86e7433c584793da8314f2c6f18e3a372b10",
        "collapsed": true
      },
      "cell_type": "code",
      "source": "dataset.info()",
      "execution_count": null,
      "outputs": []
    },
    {
      "metadata": {
        "trusted": true,
        "_uuid": "f29646a51cbe866a3fa159c460876467129965d0",
        "collapsed": true
      },
      "cell_type": "code",
      "source": "dataset.describe()",
      "execution_count": null,
      "outputs": []
    },
    {
      "metadata": {
        "trusted": true,
        "_uuid": "71b79c545ed459e1e2a9874a485803de20d55071",
        "collapsed": true
      },
      "cell_type": "code",
      "source": "dataset['Species'].value_counts()",
      "execution_count": null,
      "outputs": []
    },
    {
      "metadata": {
        "_uuid": "f249ef2d87eff3936f8716c7d4d81ddf16bb8ce3"
      },
      "cell_type": "markdown",
      "source": "**Data Visualization**"
    },
    {
      "metadata": {
        "trusted": true,
        "_uuid": "f1d9b2d19fe46d46c9318ad74572825920d09e09",
        "collapsed": true
      },
      "cell_type": "code",
      "source": "# We don't need id columns so we drop it \ntemp  = dataset.drop('Id', axis =1)\ng = sns.pairplot(temp, hue = 'Species')\nplt.show()",
      "execution_count": null,
      "outputs": []
    },
    {
      "metadata": {
        "trusted": true,
        "_uuid": "e4fcfe81188811989021930bcfa5c9248eda6ad3",
        "collapsed": true
      },
      "cell_type": "code",
      "source": "g = sns.violinplot(x = 'SepalWidthCm', y = 'Species',data = dataset, inner = 'quartile')\nplt.show()",
      "execution_count": null,
      "outputs": []
    },
    {
      "metadata": {
        "trusted": true,
        "_uuid": "947df1cbc25b20b1b4e9f14cd59d8d4cef786e3a",
        "collapsed": true
      },
      "cell_type": "code",
      "source": "g = sns.violinplot(y='Species', x='SepalWidthCm', data=dataset, inner='quartile')\nplt.show()",
      "execution_count": null,
      "outputs": []
    },
    {
      "metadata": {
        "trusted": true,
        "_uuid": "97dfeaa46642c2f9e9387a42be581f6e9039447c",
        "collapsed": true
      },
      "cell_type": "code",
      "source": "g = sns.violinplot(y='Species', x='PetalLengthCm', data=dataset, inner='quartile')\nplt.show()",
      "execution_count": null,
      "outputs": []
    },
    {
      "metadata": {
        "trusted": true,
        "_uuid": "f867501d9b32c3c74520bb72138f5a6738ef4e69",
        "collapsed": true
      },
      "cell_type": "code",
      "source": "g = sns.violinplot(y='Species', x='PetalWidthCm', data=dataset, inner='quartile')\nplt.show()",
      "execution_count": null,
      "outputs": []
    },
    {
      "metadata": {
        "_uuid": "4df756a4217aed78712e55fe7b2ad20305e0832f"
      },
      "cell_type": "markdown",
      "source": " **Now using some Machine Learning Algorithm to predict the IRIS Species**"
    },
    {
      "metadata": {
        "trusted": true,
        "_uuid": "ca49c8b7a70cb7fb95b4e8d1717959d985dcfcfc",
        "collapsed": true
      },
      "cell_type": "code",
      "source": "dataset.head()",
      "execution_count": null,
      "outputs": []
    },
    {
      "metadata": {
        "trusted": true,
        "collapsed": true,
        "_uuid": "40659269c723987ac25d4e88872d4feb86dfac83"
      },
      "cell_type": "code",
      "source": "# See id is not require so we drop it \n# And Species is the dependent varibale and all other are independent variable\n\nX = dataset.iloc[ : , 1:5].values\ny = dataset['Species']",
      "execution_count": null,
      "outputs": []
    },
    {
      "metadata": {
        "trusted": true,
        "_uuid": "90b7d8ff0316ae6d57ee4bbe92efc995570aa961",
        "collapsed": true
      },
      "cell_type": "code",
      "source": "X",
      "execution_count": null,
      "outputs": []
    },
    {
      "metadata": {
        "trusted": true,
        "_uuid": "a1687d52b3fce47c611fbb68c2c057aa6f67f705",
        "collapsed": true
      },
      "cell_type": "code",
      "source": "y",
      "execution_count": null,
      "outputs": []
    },
    {
      "metadata": {
        "trusted": true,
        "_uuid": "514cb2e9ac899e65384759042bfc8dab4718f889",
        "collapsed": true
      },
      "cell_type": "code",
      "source": "X.shape",
      "execution_count": null,
      "outputs": []
    },
    {
      "metadata": {
        "trusted": true,
        "_uuid": "a850b876f47dd78de10ff16a2c8264947a939459",
        "collapsed": true
      },
      "cell_type": "code",
      "source": "y.shape",
      "execution_count": null,
      "outputs": []
    },
    {
      "metadata": {
        "trusted": true,
        "_uuid": "4549c61af19c26b4c900f62d07dd4c951fcbc80e",
        "collapsed": true
      },
      "cell_type": "code",
      "source": "# KNN (K-nearest Neighbor)\nfrom sklearn.neighbors import KNeighborsClassifier\nfrom sklearn.metrics import accuracy_score\nk_range = list(range(1,26))\nscores = []\nfor k in k_range:\n    knn = KNeighborsClassifier(n_neighbors = k)\n    knn.fit(X,y)\n    y_pred = knn.predict(X)\n    scores.append(accuracy_score(y, y_pred))\n    \nplt.plot(k_range, scores)\nplt.xlabel('Value of k for KNN')\nplt.ylabel('Accuracy Score')\nplt.title('Accuracy Scores for Values of k of k-Nearest-Neighbors')\nplt.show()   ",
      "execution_count": null,
      "outputs": []
    },
    {
      "metadata": {
        "trusted": true,
        "_uuid": "0ede4862c8bab620cba52bc7b9679a02628f9db7",
        "collapsed": true
      },
      "cell_type": "code",
      "source": "from sklearn.metrics import confusion_matrix\ncm  =  confusion_matrix(y,y_pred)",
      "execution_count": null,
      "outputs": []
    },
    {
      "metadata": {
        "trusted": true,
        "_uuid": "15ca76d1cb1b7ebf1136f05e90110f30d0522222",
        "collapsed": true
      },
      "cell_type": "code",
      "source": "cm",
      "execution_count": null,
      "outputs": []
    },
    {
      "metadata": {
        "_uuid": "f4cf37b41dc9eb27c810d65b31c5a273d55f5d8b"
      },
      "cell_type": "markdown",
      "source": "**Logistic Regression**"
    },
    {
      "metadata": {
        "trusted": true,
        "_uuid": "59ecdbd3e088e5332ecb12989353ab2fc4cd2e86",
        "collapsed": true
      },
      "cell_type": "code",
      "source": "from sklearn.linear_model import LogisticRegression\nclassifier = LogisticRegression()\nclassifier.fit(X,y)\ny_pred = classifier.predict(X)\nprint(accuracy_score(y ,y_pred))",
      "execution_count": null,
      "outputs": []
    },
    {
      "metadata": {
        "_uuid": "bffda8dfd327aabcb24ad8ab59d58603dac15892"
      },
      "cell_type": "markdown",
      "source": "**Split the dataset into a training set and a testing set **\n\n**Advantages**\n\n** By splitting the dataset pseudo-randomly into a two separate sets, we can train using one set and test using another.**\n\n** This ensures that we won't use the same observations in both sets. **\n\n** More flexible and faster than creating a model using all of the dataset for training. **\n\n** Disadvantages **\n\n** The accuracy scores for the testing set can vary depending on what observations are in the set.\n This disadvantage can be countered using k-fold cross-validation. **\n\n** Notes**\n\n** The accuracy score of the models depends on the observations in the testing set, which is determined by the seed of the pseudo-random number generator (random_state parameter). **\n\n** As a model's complexity increases, the training accuracy (accuracy you get when you train and test the model on the same data) increases. **\n\n** If a model is too complex or not complex enough, the testing accuracy is lower. **\n\n** For KNN models, the value of k determines the level of complexity. A lower value of k means that the model is more complex. **\n"
    },
    {
      "metadata": {
        "_uuid": "cc6ad5b1e80f244af03f6674c226e5b6c99cbfd7"
      },
      "cell_type": "markdown",
      "source": "**Spiltting the dataset into X_train, X_test , y_train, y_test**"
    },
    {
      "metadata": {
        "trusted": true,
        "_uuid": "d9446a252b275ebe3b837ead308f5f1a35562829",
        "collapsed": true
      },
      "cell_type": "code",
      "source": "from sklearn.cross_validation import train_test_split\nX_train , X_test , y_train , y_test = train_test_split(X,y,test_size =0.20, random_state = 0)",
      "execution_count": null,
      "outputs": []
    },
    {
      "metadata": {
        "trusted": true,
        "_uuid": "f4e26f1c7e5ee6edd54d1c6dd049abff2dcd8a40",
        "collapsed": true
      },
      "cell_type": "code",
      "source": "print(X_train.shape)\nprint(X_test.shape)\nprint(y_train.shape)\nprint(y_test.shape)",
      "execution_count": null,
      "outputs": []
    },
    {
      "metadata": {
        "trusted": true,
        "_uuid": "a5a966d5d0a15accae14c2ca3b82c4d261bb8bb1",
        "collapsed": true
      },
      "cell_type": "code",
      "source": "# experimenting with different n values\nk_range = list(range(1,26))\nscores = []\nfor k in k_range:\n    knn = KNeighborsClassifier(n_neighbors=k)\n    knn.fit(X_train, y_train)\n    y_pred = knn.predict(X_test)\n    scores.append(accuracy_score(y_test, y_pred))\n    \nplt.plot(k_range, scores)\nplt.xlabel('Value of k for KNN')\nplt.ylabel('Accuracy Score')\nplt.title('Accuracy Scores for Values of k of k-Nearest-Neighbors')\nplt.show()",
      "execution_count": null,
      "outputs": []
    },
    {
      "metadata": {
        "trusted": true,
        "_uuid": "68a00969ebfd7df2f7ae3b92537714d3b8c2f538",
        "collapsed": true
      },
      "cell_type": "code",
      "source": "logreg = LogisticRegression()\nlogreg.fit(X_train, y_train)\ny_pred = logreg.predict(X_test)\nprint(accuracy_score(y_test, y_pred))",
      "execution_count": null,
      "outputs": []
    },
    {
      "metadata": {
        "_uuid": "a34b66058b74197b319690a4d16cec6418c1b984"
      },
      "cell_type": "markdown",
      "source": "** Choosing KNN to Model Iris Species Prediction with k = 12 **\n\nAfter seeing that a value of k = 12 is a pretty good number of neighbors for this model, I used it to fit the model for the entire dataset instead of just the training set."
    },
    {
      "metadata": {
        "trusted": true,
        "collapsed": true,
        "_uuid": "179edda6ad4b6e98a1de1cbb776dea3016bd8f6e"
      },
      "cell_type": "code",
      "source": "knn = KNeighborsClassifier(n_neighbors=10,p=2, metric=\"minkowski\")",
      "execution_count": null,
      "outputs": []
    },
    {
      "metadata": {
        "trusted": true,
        "_uuid": "071c3f2e592790783b64d8f7fa61e56405ebd4cf",
        "collapsed": true
      },
      "cell_type": "code",
      "source": "knn.fit(X,y)",
      "execution_count": null,
      "outputs": []
    },
    {
      "metadata": {
        "trusted": true,
        "_uuid": "c190ad1a8529669e766a9a772139c95b7e856484",
        "collapsed": true
      },
      "cell_type": "code",
      "source": "knn.predict([[5.1,3.8,1.5,0.3]])",
      "execution_count": null,
      "outputs": []
    },
    {
      "metadata": {
        "_uuid": "43452c97b623c220065df7be42c964e1946afe49"
      },
      "cell_type": "markdown",
      "source": "**Thank You!!! **\n\n** Follow me on LinkedIn [www.LinkedIn.com/in/themenyouwanttobe](http://www.LinkedIn.com/in/themenyouwanttobe) **\n\n** Follow me on Instagram [www.Instagram.com/themenyouwanttobe](http://www.LinkedIn.com/in/themenyouwanttobe) **"
    },
    {
      "metadata": {
        "trusted": true,
        "collapsed": true,
        "_uuid": "932cbcaf0467ea625b3a46a5cb837497bc7ec31d"
      },
      "cell_type": "code",
      "source": "",
      "execution_count": null,
      "outputs": []
    }
  ],
  "metadata": {
    "kernelspec": {
      "display_name": "Python 3",
      "language": "python",
      "name": "python3"
    },
    "language_info": {
      "name": "python",
      "version": "3.6.6",
      "mimetype": "text/x-python",
      "codemirror_mode": {
        "name": "ipython",
        "version": 3
      },
      "pygments_lexer": "ipython3",
      "nbconvert_exporter": "python",
      "file_extension": ".py"
    }
  },
  "nbformat": 4,
  "nbformat_minor": 1
}